{
  "cells": [
    {
      "cell_type": "markdown",
      "metadata": {
        "id": "view-in-github",
        "colab_type": "text"
      },
      "source": [
        "<a href=\"https://colab.research.google.com/github/ritwikaswec1240/email-extractor/blob/main/Email_Id_Extractor_from_sites_in_Scrapy_Python_Project.ipynb\" target=\"_parent\"><img src=\"https://colab.research.google.com/assets/colab-badge.svg\" alt=\"Open In Colab\"/></a>"
      ]
    },
    {
      "cell_type": "markdown",
      "source": [
        "# Email Extractor from Websites\n",
        "This project extracts email addresses from webpages using Python (requests, BeautifulSoup, regex).\n"
      ],
      "metadata": {
        "id": "Fw_C6tDlaSHv"
      }
    },
    {
      "cell_type": "code",
      "execution_count": null,
      "metadata": {
        "collapsed": true,
        "id": "4ouW99e2EXeV"
      },
      "outputs": [],
      "source": [
        "!pip install scrapy scrapy-selenium\n",
        "!apt-get update\n",
        "!apt-get install -y chromium chromium-driver\n"
      ]
    },
    {
      "cell_type": "code",
      "execution_count": null,
      "metadata": {
        "id": "M4GTPXy6G0qo",
        "collapsed": true
      },
      "outputs": [],
      "source": [
        "!apt-get update -q\n",
        "!apt-get install -y chromium-browser chromium-chromedriver"
      ]
    },
    {
      "cell_type": "code",
      "execution_count": null,
      "metadata": {
        "id": "SWdTWZoQInCB"
      },
      "outputs": [],
      "source": [
        "import shutil\n",
        "CHROMEDRIVER_PATH = shutil.which(\"chromedriver\")\n",
        "print(\"ChromeDriver Path:\", CHROMEDRIVER_PATH)\n"
      ]
    },
    {
      "cell_type": "code",
      "execution_count": null,
      "metadata": {
        "colab": {
          "background_save": true
        },
        "id": "kzZEfhhFFdwq",
        "collapsed": true
      },
      "outputs": [],
      "source": [
        "import scrapy\n",
        "from scrapy.crawler import CrawlerProcess\n",
        "from scrapy_selenium import SeleniumRequest\n",
        "import re\n",
        "\n",
        "class EmailSpider(scrapy.Spider):\n",
        "    name = \"emailspider\"\n",
        "    custom_settings = {\n",
        "        \"FEEDS\": {\"emails.csv\": {\"format\": \"csv\"}},  # save results to CSV\n",
        "        \"SELENIUM_DRIVER_NAME\": \"chrome\",\n",
        "        \"SELENIUM_DRIVER_EXECUTABLE_PATH\": \"/usr/bin/chromedriver\",\n",
        "        \"SELENIUM_DRIVER_ARGUMENTS\": [\"--headless\", \"--no-sandbox\", \"--disable-dev-shm-usage\"],\n",
        "        \"LOG_LEVEL\": \"INFO\",\n",
        "    }\n",
        "\n",
        "    def start_requests(self):\n",
        "        yield SeleniumRequest(\n",
        "            url=\"https://www.geeksforgeeks.org/\",  # change this to your target site\n",
        "            wait_time=5,\n",
        "            callback=self.parse\n",
        "        )\n",
        "\n",
        "    def parse(self, response):\n",
        "        page_url = response.url\n",
        "        emails = re.findall(r\"[A-Za-z0-9._%+-]+@[A-Za-z0-9.-]+\\.[A-Za-z]{2,}\", response.text)\n",
        "\n",
        "        for email in set(emails):\n",
        "            yield {\"page_url\": page_url, \"email\": email}\n",
        "\n",
        "        # ✅ follow internal links safely\n",
        "        for link in response.css(\"a::attr(href)\").getall():\n",
        "            if link and link.startswith(\"https://www.geeksforgeeks.org\"):\n",
        "                yield SeleniumRequest(\n",
        "                    url=link,\n",
        "                    wait_time=3,\n",
        "                    callback=self.parse\n",
        "                )\n",
        "\n",
        "# ========================\n",
        "# Run the spider\n",
        "# ========================\n",
        "process = CrawlerProcess()\n",
        "process.crawl(EmailSpider)\n",
        "process.start()\n"
      ]
    }
  ],
  "metadata": {
    "colab": {
      "provenance": [],
      "authorship_tag": "ABX9TyMg18PoZkA/NAZ/Wzx7rgWf",
      "include_colab_link": true
    },
    "kernelspec": {
      "display_name": "Python 3",
      "name": "python3"
    },
    "language_info": {
      "name": "python"
    }
  },
  "nbformat": 4,
  "nbformat_minor": 0
}